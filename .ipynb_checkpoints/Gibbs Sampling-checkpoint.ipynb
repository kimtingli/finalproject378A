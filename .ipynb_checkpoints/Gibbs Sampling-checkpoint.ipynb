{
 "cells": [
  {
   "cell_type": "code",
   "execution_count": 15,
   "metadata": {
    "collapsed": true
   },
   "outputs": [],
   "source": [
    "import numpy as np\n",
    "import matplotlib.pyplot as plt\n",
    "def gibbs(x0,y0,B,n):\n",
    "    #setting empty arrays for storing values later\n",
    "    x = np.empty(n)\n",
    "    y = np.empty(n)\n",
    "    a = np.empty([n,2])\n",
    "    #setting the initial values for x and y, a is simply a matrix form of x,y\n",
    "    x[0] = x0\n",
    "    y[0] = y0\n",
    "    a[0] = (x0,y0)\n",
    "    for i in range(1,n):\n",
    "        #sample from f(x|y) using inversion method\n",
    "        u1 = np.random.uniform(0,1)\n",
    "        x[i] = np.log(1-u1*(1-np.exp(-y[i-1]*B)))/(-y[i-1])\n",
    "        #sample from f(y|x) using inversion method\n",
    "        u2 = np.random.uniform(0,1)\n",
    "        y[i] = np.log(1-u2*(1-np.exp(-x[i]*B)))/(-x[i])\n",
    "        a[i] = (x[i],y[i])\n",
    "    return a\n",
    "    \n",
    "\n"
   ]
  },
  {
   "cell_type": "code",
   "execution_count": 17,
   "metadata": {
    "scrolled": true
   },
   "outputs": [
    {
     "data": {
      "image/png": "[encoded data removed]",
      "text/plain": [
       "<matplotlib.figure.Figure at 0x1ef542da550>"
      ]
     },
     "metadata": {},
     "output_type": "display_data"
    },
    {
     "data": {
      "image/png": "[encoded data removed]",
      "text/plain": [
       "<matplotlib.figure.Figure at 0x1ef55865898>"
      ]
     },
     "metadata": {},
     "output_type": "display_data"
    },
    {
     "data": {
      "image/png": "[encoded data removed]",
      "text/plain": [
       "<matplotlib.figure.Figure at 0x1ef55929860>"
      ]
     },
     "metadata": {},
     "output_type": "display_data"
    }
   ],
   "source": [
    "#histogram of X\n",
    "a1 = gibbs(1,1,5,500)\n",
    "a2 = gibbs(1,1,5,5000)\n",
    "a3 = gibbs(1,1,5,50000)\n",
    "plt.hist(a1[:,[1]], 50, normed=1, facecolor='blue', alpha=0.5)\n",
    "plt.show()\n",
    "plt.hist(a2[:,[1]], 50, normed=1, facecolor='blue', alpha=0.5)\n",
    "plt.show()\n",
    "plt.hist(a3[:,[1]], 50, normed=1, facecolor='blue', alpha=0.5)\n",
    "plt.show()"
   ]
  },
  {
   "cell_type": "code",
   "execution_count": 20,
   "metadata": {},
   "outputs": [
    {
     "data": {
      "text/plain": [
       "1.1492241228146365"
      ]
     },
     "execution_count": 20,
     "metadata": {},
     "output_type": "execute_result"
    }
   ],
   "source": [
    "np.mean(a1[:,[1]])"
   ]
  },
  {
   "cell_type": "code",
   "execution_count": 21,
   "metadata": {},
   "outputs": [
    {
     "data": {
      "text/plain": [
       "1.2768224792549121"
      ]
     },
     "execution_count": 21,
     "metadata": {},
     "output_type": "execute_result"
    }
   ],
   "source": [
    "np.mean(a2[:,[1]])"
   ]
  },
  {
   "cell_type": "code",
   "execution_count": 22,
   "metadata": {},
   "outputs": [
    {
     "data": {
      "text/plain": [
       "1.2661553317353731"
      ]
     },
     "execution_count": 22,
     "metadata": {},
     "output_type": "execute_result"
    }
   ],
   "source": [
    "np.mean(a3[:,[1]])"
   ]
  }
 ],
 "metadata": {
  "kernelspec": {
   "display_name": "Python 3",
   "language": "python",
   "name": "python3"
  },
  "language_info": {
   "codemirror_mode": {
    "name": "ipython",
    "version": 3
   },
   "file_extension": ".py",
   "mimetype": "text/x-python",
   "name": "python",
   "nbconvert_exporter": "python",
   "pygments_lexer": "ipython3",
   "version": "3.6.2"
  }
 },
 "nbformat": 4,
 "nbformat_minor": 2
}
